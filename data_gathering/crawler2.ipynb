{
 "cells": [
  {
   "cell_type": "code",
   "execution_count": 1,
   "metadata": {},
   "outputs": [],
   "source": [
    "from selenium import webdriver \n",
    "from selenium.webdriver.common.by import By\n",
    "import pandas as pd"
   ]
  },
  {
   "cell_type": "code",
   "execution_count": 9,
   "metadata": {},
   "outputs": [],
   "source": [
    "def crawl_nlp(i):\n",
    "    import time\n",
    "    que=[]\n",
    "    ans=[]\n",
    "    driver = webdriver.Chrome(r\"D:\\521\\chatbot\\data_gathering\\chromedriver.exe\")\n",
    "    url=\"https://datascience.stackexchange.com/questions/tagged/nlp?tab=votes&page=\"+str(i)+\"&pagesize=50\"\n",
    "    driver.get(url)\n",
    "    elements=driver.find_elements(By.TAG_NAME,'h3')\n",
    "    for element in elements[3:]:\n",
    "        que.append(element.text)\n",
    "    links=driver.find_elements(By.CLASS_NAME,'s-link')\n",
    "    urls=[]\n",
    "    for link in links[1:51]:\n",
    "        urls.append(link.get_attribute('href'))\n",
    "    driver = webdriver.Chrome(r\"D:\\521\\chatbot\\data_gathering\\chromedriver.exe\")\n",
    "    for l in urls:\n",
    "        driver.get(l)\n",
    "        time.sleep(2)\n",
    "        try:\n",
    "            answer=driver.find_element(By.XPATH,'/html/body/div[6]/div[2]/div/div[1]/div[3]/div[2]/div[2]/div/div[2]/div[1]')\n",
    "            ans.append(answer.get_attribute('innerText').strip())\n",
    "        except:\n",
    "            ans.append(\"\")\n",
    "    return que,ans\n",
    "\n",
    "        "
   ]
  },
  {
   "cell_type": "code",
   "execution_count": 4,
   "metadata": {},
   "outputs": [
    {
     "name": "stderr",
     "output_type": "stream",
     "text": [
      "C:\\Users\\Yifan\\AppData\\Local\\Temp\\ipykernel_19416\\3858186992.py:5: DeprecationWarning: executable_path has been deprecated, please pass in a Service object\n",
      "  driver = webdriver.Chrome(r\"D:\\521\\chatbot\\chromedriver.exe\")\n",
      "C:\\Users\\Yifan\\AppData\\Local\\Temp\\ipykernel_19416\\3858186992.py:15: DeprecationWarning: executable_path has been deprecated, please pass in a Service object\n",
      "  driver = webdriver.Chrome(r\"D:\\521\\chatbot\\chromedriver.exe\")\n"
     ]
    },
    {
     "ename": "NoSuchElementException",
     "evalue": "Message: no such element: Unable to locate element: {\"method\":\"xpath\",\"selector\":\"/html/body/div[6]/div[2]/div/div[1]/div[3]/div[2]/div[2]/div/div[2]/div[1]\"}\n  (Session info: chrome=112.0.5615.138)\nStacktrace:\nBacktrace:\n\tGetHandleVerifier [0x0070DCE3+50899]\n\t(No symbol) [0x0069E111]\n\t(No symbol) [0x005A5588]\n\t(No symbol) [0x005D08F9]\n\t(No symbol) [0x005D0AFB]\n\t(No symbol) [0x005FF902]\n\t(No symbol) [0x005EB944]\n\t(No symbol) [0x005FE01C]\n\t(No symbol) [0x005EB6F6]\n\t(No symbol) [0x005C7708]\n\t(No symbol) [0x005C886D]\n\tGetHandleVerifier [0x00973EAE+2566302]\n\tGetHandleVerifier [0x009A92B1+2784417]\n\tGetHandleVerifier [0x009A327C+2759788]\n\tGetHandleVerifier [0x007A5740+672048]\n\t(No symbol) [0x006A8872]\n\t(No symbol) [0x006A41C8]\n\t(No symbol) [0x006A42AB]\n\t(No symbol) [0x006971B7]\n\tBaseThreadInitThunk [0x767C7D49+25]\n\tRtlInitializeExceptionChain [0x7778B74B+107]\n\tRtlClearBits [0x7778B6CF+191]\n",
     "output_type": "error",
     "traceback": [
      "\u001b[1;31m---------------------------------------------------------------------------\u001b[0m",
      "\u001b[1;31mNoSuchElementException\u001b[0m                    Traceback (most recent call last)",
      "\u001b[1;32md:\\521\\chatbot\\crawler2.ipynb Cell 3\u001b[0m in \u001b[0;36m<cell line: 3>\u001b[1;34m()\u001b[0m\n\u001b[0;32m      <a href='vscode-notebook-cell:/d%3A/521/chatbot/crawler2.ipynb#W2sZmlsZQ%3D%3D?line=1'>2</a>\u001b[0m anss\u001b[39m=\u001b[39m[]\n\u001b[0;32m      <a href='vscode-notebook-cell:/d%3A/521/chatbot/crawler2.ipynb#W2sZmlsZQ%3D%3D?line=2'>3</a>\u001b[0m \u001b[39mfor\u001b[39;00m i \u001b[39min\u001b[39;00m \u001b[39mrange\u001b[39m(\u001b[39m1\u001b[39m,\u001b[39m30\u001b[39m):\n\u001b[1;32m----> <a href='vscode-notebook-cell:/d%3A/521/chatbot/crawler2.ipynb#W2sZmlsZQ%3D%3D?line=3'>4</a>\u001b[0m     que,ans\u001b[39m=\u001b[39mcrawl_nlp(i)\n\u001b[0;32m      <a href='vscode-notebook-cell:/d%3A/521/chatbot/crawler2.ipynb#W2sZmlsZQ%3D%3D?line=4'>5</a>\u001b[0m     ques\u001b[39m+\u001b[39m\u001b[39m=\u001b[39mque\n\u001b[0;32m      <a href='vscode-notebook-cell:/d%3A/521/chatbot/crawler2.ipynb#W2sZmlsZQ%3D%3D?line=5'>6</a>\u001b[0m     anss\u001b[39m+\u001b[39m\u001b[39m=\u001b[39mans\n",
      "\u001b[1;32md:\\521\\chatbot\\crawler2.ipynb Cell 3\u001b[0m in \u001b[0;36mcrawl_nlp\u001b[1;34m(i)\u001b[0m\n\u001b[0;32m     <a href='vscode-notebook-cell:/d%3A/521/chatbot/crawler2.ipynb#W2sZmlsZQ%3D%3D?line=16'>17</a>\u001b[0m     driver\u001b[39m.\u001b[39mget(l)\n\u001b[0;32m     <a href='vscode-notebook-cell:/d%3A/521/chatbot/crawler2.ipynb#W2sZmlsZQ%3D%3D?line=17'>18</a>\u001b[0m     time\u001b[39m.\u001b[39msleep(\u001b[39m2\u001b[39m)\n\u001b[1;32m---> <a href='vscode-notebook-cell:/d%3A/521/chatbot/crawler2.ipynb#W2sZmlsZQ%3D%3D?line=18'>19</a>\u001b[0m     answer\u001b[39m=\u001b[39mdriver\u001b[39m.\u001b[39;49mfind_element(By\u001b[39m.\u001b[39;49mXPATH,\u001b[39m'\u001b[39;49m\u001b[39m/html/body/div[6]/div[2]/div/div[1]/div[3]/div[2]/div[2]/div/div[2]/div[1]\u001b[39;49m\u001b[39m'\u001b[39;49m)\n\u001b[0;32m     <a href='vscode-notebook-cell:/d%3A/521/chatbot/crawler2.ipynb#W2sZmlsZQ%3D%3D?line=19'>20</a>\u001b[0m     ans\u001b[39m.\u001b[39mappend(answer\u001b[39m.\u001b[39mget_attribute(\u001b[39m'\u001b[39m\u001b[39minnerText\u001b[39m\u001b[39m'\u001b[39m)\u001b[39m.\u001b[39mstrip())\n\u001b[0;32m     <a href='vscode-notebook-cell:/d%3A/521/chatbot/crawler2.ipynb#W2sZmlsZQ%3D%3D?line=20'>21</a>\u001b[0m \u001b[39mreturn\u001b[39;00m que,ans\n",
      "File \u001b[1;32mc:\\Users\\Yifan\\anaconda3\\envs\\ANLY501\\lib\\site-packages\\selenium\\webdriver\\remote\\webdriver.py:831\u001b[0m, in \u001b[0;36mWebDriver.find_element\u001b[1;34m(self, by, value)\u001b[0m\n\u001b[0;32m    828\u001b[0m     by \u001b[39m=\u001b[39m By\u001b[39m.\u001b[39mCSS_SELECTOR\n\u001b[0;32m    829\u001b[0m     value \u001b[39m=\u001b[39m \u001b[39mf\u001b[39m\u001b[39m'\u001b[39m\u001b[39m[name=\u001b[39m\u001b[39m\"\u001b[39m\u001b[39m{\u001b[39;00mvalue\u001b[39m}\u001b[39;00m\u001b[39m\"\u001b[39m\u001b[39m]\u001b[39m\u001b[39m'\u001b[39m\n\u001b[1;32m--> 831\u001b[0m \u001b[39mreturn\u001b[39;00m \u001b[39mself\u001b[39;49m\u001b[39m.\u001b[39;49mexecute(Command\u001b[39m.\u001b[39;49mFIND_ELEMENT, {\u001b[39m\"\u001b[39;49m\u001b[39musing\u001b[39;49m\u001b[39m\"\u001b[39;49m: by, \u001b[39m\"\u001b[39;49m\u001b[39mvalue\u001b[39;49m\u001b[39m\"\u001b[39;49m: value})[\u001b[39m\"\u001b[39m\u001b[39mvalue\u001b[39m\u001b[39m\"\u001b[39m]\n",
      "File \u001b[1;32mc:\\Users\\Yifan\\anaconda3\\envs\\ANLY501\\lib\\site-packages\\selenium\\webdriver\\remote\\webdriver.py:440\u001b[0m, in \u001b[0;36mWebDriver.execute\u001b[1;34m(self, driver_command, params)\u001b[0m\n\u001b[0;32m    438\u001b[0m response \u001b[39m=\u001b[39m \u001b[39mself\u001b[39m\u001b[39m.\u001b[39mcommand_executor\u001b[39m.\u001b[39mexecute(driver_command, params)\n\u001b[0;32m    439\u001b[0m \u001b[39mif\u001b[39;00m response:\n\u001b[1;32m--> 440\u001b[0m     \u001b[39mself\u001b[39;49m\u001b[39m.\u001b[39;49merror_handler\u001b[39m.\u001b[39;49mcheck_response(response)\n\u001b[0;32m    441\u001b[0m     response[\u001b[39m\"\u001b[39m\u001b[39mvalue\u001b[39m\u001b[39m\"\u001b[39m] \u001b[39m=\u001b[39m \u001b[39mself\u001b[39m\u001b[39m.\u001b[39m_unwrap_value(response\u001b[39m.\u001b[39mget(\u001b[39m\"\u001b[39m\u001b[39mvalue\u001b[39m\u001b[39m\"\u001b[39m, \u001b[39mNone\u001b[39;00m))\n\u001b[0;32m    442\u001b[0m     \u001b[39mreturn\u001b[39;00m response\n",
      "File \u001b[1;32mc:\\Users\\Yifan\\anaconda3\\envs\\ANLY501\\lib\\site-packages\\selenium\\webdriver\\remote\\errorhandler.py:245\u001b[0m, in \u001b[0;36mErrorHandler.check_response\u001b[1;34m(self, response)\u001b[0m\n\u001b[0;32m    243\u001b[0m         alert_text \u001b[39m=\u001b[39m value[\u001b[39m\"\u001b[39m\u001b[39malert\u001b[39m\u001b[39m\"\u001b[39m]\u001b[39m.\u001b[39mget(\u001b[39m\"\u001b[39m\u001b[39mtext\u001b[39m\u001b[39m\"\u001b[39m)\n\u001b[0;32m    244\u001b[0m     \u001b[39mraise\u001b[39;00m exception_class(message, screen, stacktrace, alert_text)  \u001b[39m# type: ignore[call-arg]  # mypy is not smart enough here\u001b[39;00m\n\u001b[1;32m--> 245\u001b[0m \u001b[39mraise\u001b[39;00m exception_class(message, screen, stacktrace)\n",
      "\u001b[1;31mNoSuchElementException\u001b[0m: Message: no such element: Unable to locate element: {\"method\":\"xpath\",\"selector\":\"/html/body/div[6]/div[2]/div/div[1]/div[3]/div[2]/div[2]/div/div[2]/div[1]\"}\n  (Session info: chrome=112.0.5615.138)\nStacktrace:\nBacktrace:\n\tGetHandleVerifier [0x0070DCE3+50899]\n\t(No symbol) [0x0069E111]\n\t(No symbol) [0x005A5588]\n\t(No symbol) [0x005D08F9]\n\t(No symbol) [0x005D0AFB]\n\t(No symbol) [0x005FF902]\n\t(No symbol) [0x005EB944]\n\t(No symbol) [0x005FE01C]\n\t(No symbol) [0x005EB6F6]\n\t(No symbol) [0x005C7708]\n\t(No symbol) [0x005C886D]\n\tGetHandleVerifier [0x00973EAE+2566302]\n\tGetHandleVerifier [0x009A92B1+2784417]\n\tGetHandleVerifier [0x009A327C+2759788]\n\tGetHandleVerifier [0x007A5740+672048]\n\t(No symbol) [0x006A8872]\n\t(No symbol) [0x006A41C8]\n\t(No symbol) [0x006A42AB]\n\t(No symbol) [0x006971B7]\n\tBaseThreadInitThunk [0x767C7D49+25]\n\tRtlInitializeExceptionChain [0x7778B74B+107]\n\tRtlClearBits [0x7778B6CF+191]\n"
     ]
    }
   ],
   "source": [
    "ques=[]\n",
    "anss=[]\n",
    "for i in range(1,30):\n",
    "    que,ans=crawl_nlp(i)\n",
    "    ques+=que\n",
    "    anss+=ans"
   ]
  }
 ],
 "metadata": {
  "kernelspec": {
   "display_name": "ANLY501",
   "language": "python",
   "name": "python3"
  },
  "language_info": {
   "codemirror_mode": {
    "name": "ipython",
    "version": 3
   },
   "file_extension": ".py",
   "mimetype": "text/x-python",
   "name": "python",
   "nbconvert_exporter": "python",
   "pygments_lexer": "ipython3",
   "version": "3.10.9"
  },
  "orig_nbformat": 4
 },
 "nbformat": 4,
 "nbformat_minor": 2
}
