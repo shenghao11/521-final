{
 "cells": [
  {
   "cell_type": "code",
   "execution_count": 1,
   "metadata": {},
   "outputs": [
    {
     "name": "stderr",
     "output_type": "stream",
     "text": [
      "c:\\Users\\Yifan\\anaconda3\\envs\\ANLY501\\lib\\site-packages\\torch\\_utils.py:133: UserWarning: Failed to initialize NumPy: module compiled against API version 0x10 but this version of numpy is 0xe (Triggered internally at  ..\\torch\\csrc\\utils\\tensor_numpy.cpp:68.)\n",
      "  t = torch.tensor([], dtype=storage.dtype, device=storage._untyped().device)\n"
     ]
    }
   ],
   "source": [
    "from transformers import AutoTokenizer,AutoModelForSequenceClassification\n",
    "import torch\n",
    "import pandas as pd\n",
    "tokenizer = AutoTokenizer.from_pretrained(\"../../IR_qa_model\")\n",
    "model = AutoModelForSequenceClassification.from_pretrained(\"../../IR_qa_model\")\n",
    "def represent(text):\n",
    "  '''\n",
    "  This function convert any text to a representation based on a fine-tuning model\n",
    "  '''\n",
    "  tokens = tokenizer.encode(text, add_special_tokens=True)\n",
    "  input_ids = torch.tensor([tokens])\n",
    "  outputs = model(input_ids)\n",
    "  cls_embedding = outputs[0]\n",
    "# Print the sentence embedding\n",
    "  return(cls_embedding)\n",
    "def similarity(text1_represent,text2_represent):\n",
    "  '''\n",
    "  This function calculate the cosine similarity between two tensors. The input should be two tensors.\n",
    "  '''\n",
    "  return torch.cosine_similarity(text1_represent,text2_represent)\n"
   ]
  },
  {
   "cell_type": "code",
   "execution_count": 2,
   "metadata": {},
   "outputs": [],
   "source": [
    "data=pd.read_csv('../raw_data/database.csv')"
   ]
  },
  {
   "cell_type": "code",
   "execution_count": 3,
   "metadata": {},
   "outputs": [],
   "source": [
    "data['Query_represent']=data['Query'].apply(lambda x: represent(x))"
   ]
  },
  {
   "cell_type": "code",
   "execution_count": 4,
   "metadata": {},
   "outputs": [],
   "source": [
    "data.to_pickle('../clean_data/pre_encode_database.pkl')"
   ]
  },
  {
   "cell_type": "code",
   "execution_count": null,
   "metadata": {},
   "outputs": [],
   "source": []
  }
 ],
 "metadata": {
  "kernelspec": {
   "display_name": "ANLY501",
   "language": "python",
   "name": "python3"
  },
  "language_info": {
   "codemirror_mode": {
    "name": "ipython",
    "version": 3
   },
   "file_extension": ".py",
   "mimetype": "text/x-python",
   "name": "python",
   "nbconvert_exporter": "python",
   "pygments_lexer": "ipython3",
   "version": "3.10.9"
  },
  "orig_nbformat": 4
 },
 "nbformat": 4,
 "nbformat_minor": 2
}
