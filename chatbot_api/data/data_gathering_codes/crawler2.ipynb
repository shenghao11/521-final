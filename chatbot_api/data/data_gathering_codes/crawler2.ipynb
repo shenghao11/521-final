{
 "cells": [
  {
   "cell_type": "code",
   "execution_count": 1,
   "metadata": {},
   "outputs": [],
   "source": [
    "from selenium import webdriver \n",
    "from selenium.webdriver.common.by import By\n",
    "import pandas as pd"
   ]
  },
  {
   "cell_type": "code",
   "execution_count": 9,
   "metadata": {},
   "outputs": [],
   "source": [
    "def crawl_nlp(i):\n",
    "    '''\n",
    "    scrap the question title and visit the corresponding question link to scrap the answers. Stop for 2 seconds when visit a link.\n",
    "    The questions, links and answers are crawled based on tag names, class names and xpaths respectively.\n",
    "    The input is the page number of the website\n",
    "    The output is a list containing quesitons and a list containing answers\n",
    "    '''\n",
    "    import time\n",
    "    que=[]\n",
    "    ans=[]\n",
    "    driver = webdriver.Chrome(\"./chromedriver.exe\")\n",
    "    url=\"https://datascience.stackexchange.com/questions/tagged/nlp?tab=votes&page=\"+str(i)+\"&pagesize=50\"\n",
    "    driver.get(url)\n",
    "    elements=driver.find_elements(By.TAG_NAME,'h3')\n",
    "    for element in elements[3:]:\n",
    "        que.append(element.text)\n",
    "    links=driver.find_elements(By.CLASS_NAME,'s-link')\n",
    "    urls=[]\n",
    "    for link in links[1:51]:\n",
    "        urls.append(link.get_attribute('href'))\n",
    "    driver = webdriver.Chrome(\"./chromedriver.exe\")\n",
    "    for l in urls:\n",
    "        driver.get(l)\n",
    "        time.sleep(2)\n",
    "        try:\n",
    "            answer=driver.find_element(By.XPATH,'/html/body/div[6]/div[2]/div/div[1]/div[3]/div[2]/div[2]/div/div[2]/div[1]')\n",
    "            ans.append(answer.get_attribute('innerText').strip())\n",
    "        except:\n",
    "            ans.append(\"\")\n",
    "    return que,ans\n",
    "\n",
    "        "
   ]
  },
  {
   "cell_type": "code",
   "execution_count": 1,
   "metadata": {},
   "outputs": [],
   "source": [
    "ques=[]\n",
    "anss=[]\n",
    "for i in range(1,30):\n",
    "    que,ans=crawl_nlp(i)\n",
    "    ques+=que\n",
    "    anss+=ans"
   ]
  },
  {
   "cell_type": "code",
   "execution_count": null,
   "metadata": {},
   "outputs": [],
   "source": [
    "pd.DataFrame({'Question':ques,'Answer':anss}).to_csv('../raw_data/qa2.csv')"
   ]
  }
 ],
 "metadata": {
  "kernelspec": {
   "display_name": "ANLY501",
   "language": "python",
   "name": "python3"
  },
  "language_info": {
   "codemirror_mode": {
    "name": "ipython",
    "version": 3
   },
   "file_extension": ".py",
   "mimetype": "text/x-python",
   "name": "python",
   "nbconvert_exporter": "python",
   "pygments_lexer": "ipython3",
   "version": "3.10.9"
  },
  "orig_nbformat": 4
 },
 "nbformat": 4,
 "nbformat_minor": 2
}
